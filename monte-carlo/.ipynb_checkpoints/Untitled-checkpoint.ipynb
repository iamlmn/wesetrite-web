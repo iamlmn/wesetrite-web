{
 "cells": [
  {
   "cell_type": "code",
   "execution_count": 1,
   "metadata": {},
   "outputs": [],
   "source": [
    "# Arch : https://docs.aws.amazon.com/batch/latest/userguide/array_jobs.html"
   ]
  },
  {
   "cell_type": "code",
   "execution_count": 2,
   "metadata": {},
   "outputs": [],
   "source": [
    "# Monte carlo simulation on S&P 500 fortunes"
   ]
  },
  {
   "cell_type": "markdown",
   "metadata": {},
   "source": [
    "Starting with 10000 and investing an additional 10000 anually, what is the probability that you will have atleast 1,000,000 after investing in s&p 500 etf"
   ]
  },
  {
   "cell_type": "code",
   "execution_count": 19,
   "metadata": {},
   "outputs": [
    {
     "data": {
      "text/plain": [
       "'en_US'"
      ]
     },
     "execution_count": 19,
     "metadata": {},
     "output_type": "execute_result"
    }
   ],
   "source": [
    "import numpy as np\n",
    "from pandas import Series, DataFrame\n",
    "%matplotlib inline\n",
    "import matplotlib.pyplot as plots\n",
    "# locales for currency formatting\n",
    "import locale\n",
    "locale.setlocale(locale.LC_ALL, 'en_US')"
   ]
  },
  {
   "cell_type": "code",
   "execution_count": 20,
   "metadata": {},
   "outputs": [],
   "source": [
    "pv = 10000 # present value \n",
    "time_horizon = 30\n",
    "i = 0.7  # expected rate of return\n",
    "additions = 10000 # annual additions\n"
   ]
  },
  {
   "cell_type": "code",
   "execution_count": 21,
   "metadata": {},
   "outputs": [
    {
     "name": "stdout",
     "output_type": "stream",
     "text": [
      "$27,000.00\n",
      "$55,900.00\n",
      "$105,030.00\n",
      "$188,551.00\n",
      "$330,536.70\n",
      "$571,912.39\n",
      "$982,251.06\n",
      "$1,679,826.81\n",
      "$2,865,705.57\n",
      "$4,881,699.47\n",
      "$8,308,889.10\n",
      "$14,135,111.48\n",
      "$24,039,689.51\n",
      "$40,877,472.16\n",
      "$69,501,702.68\n",
      "$118,162,894.56\n",
      "$200,886,920.74\n",
      "$341,517,765.26\n",
      "$580,590,200.95\n",
      "$987,013,341.61\n",
      "$1,677,932,680.74\n",
      "$2,852,495,557.27\n",
      "$4,849,252,447.35\n",
      "$8,243,739,160.50\n",
      "$14,014,366,572.85\n",
      "$23,824,433,173.84\n",
      "$40,501,546,395.53\n",
      "$68,852,638,872.39\n",
      "$117,049,496,083.07\n",
      "$198,984,153,341.22\n"
     ]
    }
   ],
   "source": [
    "# traditional calculation\n",
    "for year in range(time_horizon):\n",
    "    ending = pv * (1 + i) + additions\n",
    "    print(locale.currency(ending, grouping=True))\n",
    "    pv = ending"
   ]
  },
  {
   "cell_type": "code",
   "execution_count": 27,
   "metadata": {},
   "outputs": [
    {
     "name": "stdout",
     "output_type": "stream",
     "text": [
      "\n",
      "\t-0.136               \t$18,639.81\n",
      "\t0.028               \t$29,160.90\n",
      "\t0.1523               \t$43,602.18\n",
      "\t-0.1004               \t$49,225.78\n",
      "\t0.5749               \t$87,526.75\n",
      "\t0.2588               \t$120,177.47\n",
      "\t0.0447               \t$135,550.34\n",
      "\t0.3576               \t$194,017.94\n",
      "\t0.1118               \t$225,707.75\n",
      "\t0.0589               \t$248,995.61\n",
      "\t0.1447               \t$295,031.20\n",
      "\t-0.3327               \t$206,863.68\n",
      "\t0.086               \t$234,652.60\n",
      "\t0.2247               \t$297,386.86\n",
      "\t-0.2256               \t$240,304.35\n",
      "\t-0.1879               \t$205,162.96\n",
      "\t0.2194               \t$260,171.83\n",
      "\t0.1912               \t$319,919.03\n",
      "\t0.1516               \t$378,433.47\n",
      "\t-0.213               \t$307,822.82\n",
      "\t0.2211               \t$385,878.61\n",
      "\t0.1715               \t$462,049.52\n",
      "\t0.0838               \t$510,774.95\n",
      "\t-0.0337               \t$503,582.02\n",
      "\t0.0165               \t$521,902.72\n",
      "\t0.1521               \t$611,272.97\n",
      "\t0.1691               \t$724,664.78\n",
      "\t0.1409               \t$836,748.01\n",
      "\t0.0681               \t$903,693.39\n",
      "\t0.0048               \t$918,014.43\n"
     ]
    }
   ],
   "source": [
    "# with probabillity gets more real\n",
    "pv = 10000\n",
    "expected_return = 0.09\n",
    "volatility = 0.18\n",
    "time_horizon = 30\n",
    "annual_addition = 10000 # annual additions\n",
    "\n",
    "print('')\n",
    "for year in range(time_horizon):\n",
    "    market_return = np.random.normal(expected_return, volatility)\n",
    "    fv = pv * (1 + market_return) + annual_addition\n",
    "    print(\"\\t{}\".ljust(10).format(round(market_return, 4)), \"\\t{}\".rjust(10).format(locale.currency(fv, grouping=True)))\n",
    "    pv = fv"
   ]
  },
  {
   "cell_type": "code",
   "execution_count": 31,
   "metadata": {},
   "outputs": [
    {
     "name": "stderr",
     "output_type": "stream",
     "text": [
      "100%|██████████| 5000/5000 [00:08<00:00, 601.81it/s]\n"
     ]
    }
   ],
   "source": [
    "sim = DataFrame()\n",
    "iterations = 5000\n",
    "from tqdm import tqdm\n",
    "for x in tqdm(range(iterations)):\n",
    "    pv = 10000\n",
    "    expected_return = 0.09\n",
    "    volatility = 0.18\n",
    "    time_horizon = 30\n",
    "    annual_addition = 10000 # annual additions\n",
    "    stream = []\n",
    "    for year in range(time_horizon):\n",
    "        market_return = np.random.normal(expected_return, volatility)\n",
    "        end = pv * (1 + market_return) + annual_addition\n",
    "        #print(\"\\t{}\".ljust(10).format(round(market_return, 4)), \"\\t{}\".rjust(10).format(locale.currency(fv, grouping=True)))\n",
    "        stream.append(end)\n",
    "        pv = end\n",
    "    sim[x] = stream\n"
   ]
  },
  {
   "cell_type": "code",
   "execution_count": 34,
   "metadata": {},
   "outputs": [],
   "source": [
    "first_five = list(range(5))"
   ]
  },
  {
   "cell_type": "code",
   "execution_count": 36,
   "metadata": {},
   "outputs": [
    {
     "data": {
      "text/html": [
       "<div>\n",
       "<style scoped>\n",
       "    .dataframe tbody tr th:only-of-type {\n",
       "        vertical-align: middle;\n",
       "    }\n",
       "\n",
       "    .dataframe tbody tr th {\n",
       "        vertical-align: top;\n",
       "    }\n",
       "\n",
       "    .dataframe thead th {\n",
       "        text-align: right;\n",
       "    }\n",
       "</style>\n",
       "<table border=\"1\" class=\"dataframe\">\n",
       "  <thead>\n",
       "    <tr style=\"text-align: right;\">\n",
       "      <th></th>\n",
       "      <th>0</th>\n",
       "      <th>1</th>\n",
       "      <th>2</th>\n",
       "      <th>3</th>\n",
       "      <th>4</th>\n",
       "    </tr>\n",
       "  </thead>\n",
       "  <tbody>\n",
       "    <tr>\n",
       "      <th>0</th>\n",
       "      <td>1.843913e+04</td>\n",
       "      <td>21139.461523</td>\n",
       "      <td>2.200338e+04</td>\n",
       "      <td>20936.228469</td>\n",
       "      <td>2.084417e+04</td>\n",
       "    </tr>\n",
       "    <tr>\n",
       "      <th>1</th>\n",
       "      <td>2.997290e+04</td>\n",
       "      <td>35412.775232</td>\n",
       "      <td>3.707048e+04</td>\n",
       "      <td>34172.696144</td>\n",
       "      <td>3.041622e+04</td>\n",
       "    </tr>\n",
       "    <tr>\n",
       "      <th>2</th>\n",
       "      <td>4.645447e+04</td>\n",
       "      <td>37251.420922</td>\n",
       "      <td>5.214316e+04</td>\n",
       "      <td>41887.005353</td>\n",
       "      <td>5.277768e+04</td>\n",
       "    </tr>\n",
       "    <tr>\n",
       "      <th>3</th>\n",
       "      <td>5.819257e+04</td>\n",
       "      <td>60004.156307</td>\n",
       "      <td>7.711833e+04</td>\n",
       "      <td>58891.762442</td>\n",
       "      <td>6.924189e+04</td>\n",
       "    </tr>\n",
       "    <tr>\n",
       "      <th>4</th>\n",
       "      <td>7.575338e+04</td>\n",
       "      <td>87692.032487</td>\n",
       "      <td>8.431742e+04</td>\n",
       "      <td>96784.059267</td>\n",
       "      <td>8.609640e+04</td>\n",
       "    </tr>\n",
       "    <tr>\n",
       "      <th>5</th>\n",
       "      <td>8.461785e+04</td>\n",
       "      <td>102654.204164</td>\n",
       "      <td>1.142976e+05</td>\n",
       "      <td>116815.039822</td>\n",
       "      <td>9.873745e+04</td>\n",
       "    </tr>\n",
       "    <tr>\n",
       "      <th>6</th>\n",
       "      <td>1.035632e+05</td>\n",
       "      <td>125911.767467</td>\n",
       "      <td>1.457717e+05</td>\n",
       "      <td>125767.555896</td>\n",
       "      <td>1.273961e+05</td>\n",
       "    </tr>\n",
       "    <tr>\n",
       "      <th>7</th>\n",
       "      <td>1.243791e+05</td>\n",
       "      <td>126957.872200</td>\n",
       "      <td>1.984567e+05</td>\n",
       "      <td>154833.960847</td>\n",
       "      <td>1.425649e+05</td>\n",
       "    </tr>\n",
       "    <tr>\n",
       "      <th>8</th>\n",
       "      <td>1.235774e+05</td>\n",
       "      <td>167765.941782</td>\n",
       "      <td>2.386177e+05</td>\n",
       "      <td>147737.003242</td>\n",
       "      <td>1.472416e+05</td>\n",
       "    </tr>\n",
       "    <tr>\n",
       "      <th>9</th>\n",
       "      <td>1.181859e+05</td>\n",
       "      <td>210196.663857</td>\n",
       "      <td>2.978815e+05</td>\n",
       "      <td>179197.991252</td>\n",
       "      <td>1.610527e+05</td>\n",
       "    </tr>\n",
       "    <tr>\n",
       "      <th>10</th>\n",
       "      <td>1.585328e+05</td>\n",
       "      <td>205372.917645</td>\n",
       "      <td>2.729397e+05</td>\n",
       "      <td>205022.102403</td>\n",
       "      <td>1.557719e+05</td>\n",
       "    </tr>\n",
       "    <tr>\n",
       "      <th>11</th>\n",
       "      <td>1.908413e+05</td>\n",
       "      <td>213297.395434</td>\n",
       "      <td>3.839931e+05</td>\n",
       "      <td>208338.342867</td>\n",
       "      <td>2.518556e+05</td>\n",
       "    </tr>\n",
       "    <tr>\n",
       "      <th>12</th>\n",
       "      <td>2.619874e+05</td>\n",
       "      <td>247254.319100</td>\n",
       "      <td>4.266471e+05</td>\n",
       "      <td>289471.823690</td>\n",
       "      <td>3.073692e+05</td>\n",
       "    </tr>\n",
       "    <tr>\n",
       "      <th>13</th>\n",
       "      <td>3.665843e+05</td>\n",
       "      <td>324507.099458</td>\n",
       "      <td>4.563273e+05</td>\n",
       "      <td>294279.361652</td>\n",
       "      <td>3.197505e+05</td>\n",
       "    </tr>\n",
       "    <tr>\n",
       "      <th>14</th>\n",
       "      <td>4.555618e+05</td>\n",
       "      <td>392448.651744</td>\n",
       "      <td>6.761498e+05</td>\n",
       "      <td>319848.563785</td>\n",
       "      <td>2.996279e+05</td>\n",
       "    </tr>\n",
       "    <tr>\n",
       "      <th>15</th>\n",
       "      <td>4.397122e+05</td>\n",
       "      <td>333225.409285</td>\n",
       "      <td>8.487107e+05</td>\n",
       "      <td>361437.894193</td>\n",
       "      <td>3.326961e+05</td>\n",
       "    </tr>\n",
       "    <tr>\n",
       "      <th>16</th>\n",
       "      <td>4.776698e+05</td>\n",
       "      <td>332199.559336</td>\n",
       "      <td>9.296025e+05</td>\n",
       "      <td>325742.426193</td>\n",
       "      <td>2.119575e+05</td>\n",
       "    </tr>\n",
       "    <tr>\n",
       "      <th>17</th>\n",
       "      <td>5.948008e+05</td>\n",
       "      <td>417609.329452</td>\n",
       "      <td>8.685227e+05</td>\n",
       "      <td>319345.290612</td>\n",
       "      <td>2.521945e+05</td>\n",
       "    </tr>\n",
       "    <tr>\n",
       "      <th>18</th>\n",
       "      <td>8.871009e+05</td>\n",
       "      <td>474210.777149</td>\n",
       "      <td>1.069046e+06</td>\n",
       "      <td>355517.825449</td>\n",
       "      <td>3.006476e+05</td>\n",
       "    </tr>\n",
       "    <tr>\n",
       "      <th>19</th>\n",
       "      <td>7.304621e+05</td>\n",
       "      <td>420487.092508</td>\n",
       "      <td>1.244011e+06</td>\n",
       "      <td>327305.177640</td>\n",
       "      <td>4.494001e+05</td>\n",
       "    </tr>\n",
       "    <tr>\n",
       "      <th>20</th>\n",
       "      <td>7.004059e+05</td>\n",
       "      <td>432563.549539</td>\n",
       "      <td>1.260797e+06</td>\n",
       "      <td>285388.166426</td>\n",
       "      <td>4.583279e+05</td>\n",
       "    </tr>\n",
       "    <tr>\n",
       "      <th>21</th>\n",
       "      <td>8.290823e+05</td>\n",
       "      <td>464073.509303</td>\n",
       "      <td>1.752769e+06</td>\n",
       "      <td>267436.010463</td>\n",
       "      <td>4.050297e+05</td>\n",
       "    </tr>\n",
       "    <tr>\n",
       "      <th>22</th>\n",
       "      <td>8.889782e+05</td>\n",
       "      <td>533990.349974</td>\n",
       "      <td>1.937922e+06</td>\n",
       "      <td>269622.832545</td>\n",
       "      <td>4.531191e+05</td>\n",
       "    </tr>\n",
       "    <tr>\n",
       "      <th>23</th>\n",
       "      <td>1.072646e+06</td>\n",
       "      <td>529122.645913</td>\n",
       "      <td>2.273902e+06</td>\n",
       "      <td>324073.605851</td>\n",
       "      <td>4.531988e+05</td>\n",
       "    </tr>\n",
       "    <tr>\n",
       "      <th>24</th>\n",
       "      <td>1.197656e+06</td>\n",
       "      <td>637377.956623</td>\n",
       "      <td>2.361151e+06</td>\n",
       "      <td>291301.118391</td>\n",
       "      <td>5.240597e+05</td>\n",
       "    </tr>\n",
       "    <tr>\n",
       "      <th>25</th>\n",
       "      <td>1.649965e+06</td>\n",
       "      <td>720186.347079</td>\n",
       "      <td>2.142002e+06</td>\n",
       "      <td>264109.728313</td>\n",
       "      <td>5.813443e+05</td>\n",
       "    </tr>\n",
       "    <tr>\n",
       "      <th>26</th>\n",
       "      <td>1.758257e+06</td>\n",
       "      <td>691070.745854</td>\n",
       "      <td>2.689286e+06</td>\n",
       "      <td>329586.641665</td>\n",
       "      <td>7.135728e+05</td>\n",
       "    </tr>\n",
       "    <tr>\n",
       "      <th>27</th>\n",
       "      <td>2.289928e+06</td>\n",
       "      <td>807895.268732</td>\n",
       "      <td>2.894686e+06</td>\n",
       "      <td>314235.368995</td>\n",
       "      <td>8.487922e+05</td>\n",
       "    </tr>\n",
       "    <tr>\n",
       "      <th>28</th>\n",
       "      <td>2.238046e+06</td>\n",
       "      <td>692735.415482</td>\n",
       "      <td>3.336151e+06</td>\n",
       "      <td>269216.589554</td>\n",
       "      <td>9.504203e+05</td>\n",
       "    </tr>\n",
       "    <tr>\n",
       "      <th>29</th>\n",
       "      <td>1.767543e+06</td>\n",
       "      <td>691760.970804</td>\n",
       "      <td>3.797127e+06</td>\n",
       "      <td>372248.961042</td>\n",
       "      <td>1.248123e+06</td>\n",
       "    </tr>\n",
       "  </tbody>\n",
       "</table>\n",
       "</div>"
      ],
      "text/plain": [
       "               0              1             2              3             4\n",
       "0   1.843913e+04   21139.461523  2.200338e+04   20936.228469  2.084417e+04\n",
       "1   2.997290e+04   35412.775232  3.707048e+04   34172.696144  3.041622e+04\n",
       "2   4.645447e+04   37251.420922  5.214316e+04   41887.005353  5.277768e+04\n",
       "3   5.819257e+04   60004.156307  7.711833e+04   58891.762442  6.924189e+04\n",
       "4   7.575338e+04   87692.032487  8.431742e+04   96784.059267  8.609640e+04\n",
       "5   8.461785e+04  102654.204164  1.142976e+05  116815.039822  9.873745e+04\n",
       "6   1.035632e+05  125911.767467  1.457717e+05  125767.555896  1.273961e+05\n",
       "7   1.243791e+05  126957.872200  1.984567e+05  154833.960847  1.425649e+05\n",
       "8   1.235774e+05  167765.941782  2.386177e+05  147737.003242  1.472416e+05\n",
       "9   1.181859e+05  210196.663857  2.978815e+05  179197.991252  1.610527e+05\n",
       "10  1.585328e+05  205372.917645  2.729397e+05  205022.102403  1.557719e+05\n",
       "11  1.908413e+05  213297.395434  3.839931e+05  208338.342867  2.518556e+05\n",
       "12  2.619874e+05  247254.319100  4.266471e+05  289471.823690  3.073692e+05\n",
       "13  3.665843e+05  324507.099458  4.563273e+05  294279.361652  3.197505e+05\n",
       "14  4.555618e+05  392448.651744  6.761498e+05  319848.563785  2.996279e+05\n",
       "15  4.397122e+05  333225.409285  8.487107e+05  361437.894193  3.326961e+05\n",
       "16  4.776698e+05  332199.559336  9.296025e+05  325742.426193  2.119575e+05\n",
       "17  5.948008e+05  417609.329452  8.685227e+05  319345.290612  2.521945e+05\n",
       "18  8.871009e+05  474210.777149  1.069046e+06  355517.825449  3.006476e+05\n",
       "19  7.304621e+05  420487.092508  1.244011e+06  327305.177640  4.494001e+05\n",
       "20  7.004059e+05  432563.549539  1.260797e+06  285388.166426  4.583279e+05\n",
       "21  8.290823e+05  464073.509303  1.752769e+06  267436.010463  4.050297e+05\n",
       "22  8.889782e+05  533990.349974  1.937922e+06  269622.832545  4.531191e+05\n",
       "23  1.072646e+06  529122.645913  2.273902e+06  324073.605851  4.531988e+05\n",
       "24  1.197656e+06  637377.956623  2.361151e+06  291301.118391  5.240597e+05\n",
       "25  1.649965e+06  720186.347079  2.142002e+06  264109.728313  5.813443e+05\n",
       "26  1.758257e+06  691070.745854  2.689286e+06  329586.641665  7.135728e+05\n",
       "27  2.289928e+06  807895.268732  2.894686e+06  314235.368995  8.487922e+05\n",
       "28  2.238046e+06  692735.415482  3.336151e+06  269216.589554  9.504203e+05\n",
       "29  1.767543e+06  691760.970804  3.797127e+06  372248.961042  1.248123e+06"
      ]
     },
     "execution_count": 36,
     "metadata": {},
     "output_type": "execute_result"
    }
   ],
   "source": [
    "sim[first_five]"
   ]
  },
  {
   "cell_type": "code",
   "execution_count": 37,
   "metadata": {},
   "outputs": [
    {
     "data": {
      "text/plain": [
       "[<matplotlib.lines.Line2D at 0x11d507cf8>,\n",
       " <matplotlib.lines.Line2D at 0x11d507e48>,\n",
       " <matplotlib.lines.Line2D at 0x11d507f98>,\n",
       " <matplotlib.lines.Line2D at 0x11d510128>,\n",
       " <matplotlib.lines.Line2D at 0x11d510278>]"
      ]
     },
     "execution_count": 37,
     "metadata": {},
     "output_type": "execute_result"
    },
    {
     "data": {
      "image/png": "[encoded data removed]",
      "text/plain": [
       "<Figure size 432x288 with 1 Axes>"
      ]
     },
     "metadata": {
      "needs_background": "light"
     },
     "output_type": "display_data"
    }
   ],
   "source": [
    "plots.plot(sim[first_five])"
   ]
  },
  {
   "cell_type": "code",
   "execution_count": 40,
   "metadata": {},
   "outputs": [
    {
     "name": "stdout",
     "output_type": "stream",
     "text": [
      "Count : 5000\n",
      "Mean : $1,491,251.11\n",
      "Std : $1,167,989.37\n",
      "Max : $11,397,559.04\n",
      "Min : $69,310.24\n"
     ]
    }
   ],
   "source": [
    "# 7. Generate summary statistics with numpy\n",
    "print(\"Count : {}\".format(len(sim.loc[29])))\n",
    "print(\"Mean : {}\".format(locale.currency(np.mean(sim.loc[29]), grouping = True)))\n",
    "print(\"Std : {}\".format(locale.currency(np.std(sim.loc[29]), grouping = True)))\n",
    "print(\"Max : {}\".format(locale.currency(np.max(sim.loc[29]), grouping = True)))\n",
    "print(\"Min : {}\".format(locale.currency(np.min(sim.loc[29]), grouping = True)))"
   ]
  },
  {
   "cell_type": "code",
   "execution_count": 42,
   "metadata": {},
   "outputs": [
    {
     "data": {
      "text/plain": [
       "count    5.000000e+03\n",
       "mean     1.491251e+06\n",
       "std      1.168106e+06\n",
       "min      6.931024e+04\n",
       "25%      7.350342e+05\n",
       "50%      1.154648e+06\n",
       "75%      1.851113e+06\n",
       "max      1.139756e+07\n",
       "Name: 29, dtype: float64"
      ]
     },
     "execution_count": 42,
     "metadata": {},
     "output_type": "execute_result"
    }
   ],
   "source": [
    "# # 8. Generate summary statistics with pandas \n",
    "# ending_values = sim.loc[29]\n",
    "# ending_values.describe()\n",
    "\n",
    "def summary_stats(sim, n):\n",
    "    '''\n",
    "    \n",
    "    '''\n",
    "    ending_values = sim.loc[29]\n",
    "    return ending_values.describe()"
   ]
  },
  {
   "cell_type": "code",
   "execution_count": 43,
   "metadata": {},
   "outputs": [
    {
     "data": {
      "text/plain": [
       "(array([  6.,  79., 195., 269., 348., 390., 369., 336., 329., 295., 250.,\n",
       "        227., 181., 167., 198., 149., 126., 105., 110.,  85.,  83.,  78.,\n",
       "         49.,  61.,  46.,  38.,  41.,  33.,  28.,  21.,  26.,  35.,  17.,\n",
       "         18.,  21.,  17.,  14.,   9.,  17.,  11.,  11.,   4.,   7.,  15.,\n",
       "          8.,   7.,   3.,   2.,   3.,   1.,   6.,   5.,   4.,   3.,   3.,\n",
       "          3.,   2.,   1.,   2.,   1.,   2.,   1.,   2.,   0.,   0.,   0.,\n",
       "          0.,   3.,   2.,   1.,   3.,   1.,   1.,   0.,   0.,   0.,   2.,\n",
       "          1.,   2.,   1.,   1.,   1.,   1.,   1.,   1.,   1.,   0.,   0.,\n",
       "          1.,   2.,   0.,   0.,   0.,   0.,   0.,   0.,   0.,   0.,   0.,\n",
       "          1.]), array([   69310.24149252,   182592.7294313 ,   295875.21737009,\n",
       "          409157.70530887,   522440.19324765,   635722.68118644,\n",
       "          749005.16912522,   862287.657064  ,   975570.14500279,\n",
       "         1088852.63294157,  1202135.12088035,  1315417.60881914,\n",
       "         1428700.09675792,  1541982.58469671,  1655265.07263549,\n",
       "         1768547.56057427,  1881830.04851306,  1995112.53645184,\n",
       "         2108395.02439062,  2221677.51232941,  2334960.00026819,\n",
       "         2448242.48820698,  2561524.97614576,  2674807.46408454,\n",
       "         2788089.95202333,  2901372.43996211,  3014654.92790089,\n",
       "         3127937.41583968,  3241219.90377846,  3354502.39171724,\n",
       "         3467784.87965603,  3581067.36759481,  3694349.8555336 ,\n",
       "         3807632.34347238,  3920914.83141116,  4034197.31934995,\n",
       "         4147479.80728873,  4260762.29522751,  4374044.7831663 ,\n",
       "         4487327.27110508,  4600609.75904386,  4713892.24698265,\n",
       "         4827174.73492143,  4940457.22286022,  5053739.710799  ,\n",
       "         5167022.19873778,  5280304.68667657,  5393587.17461535,\n",
       "         5506869.66255413,  5620152.15049292,  5733434.6384317 ,\n",
       "         5846717.12637048,  5959999.61430927,  6073282.10224805,\n",
       "         6186564.59018684,  6299847.07812562,  6413129.5660644 ,\n",
       "         6526412.05400319,  6639694.54194197,  6752977.02988075,\n",
       "         6866259.51781954,  6979542.00575832,  7092824.49369711,\n",
       "         7206106.98163589,  7319389.46957467,  7432671.95751346,\n",
       "         7545954.44545224,  7659236.93339102,  7772519.42132981,\n",
       "         7885801.90926859,  7999084.39720737,  8112366.88514616,\n",
       "         8225649.37308494,  8338931.86102373,  8452214.34896251,\n",
       "         8565496.83690129,  8678779.32484008,  8792061.81277886,\n",
       "         8905344.30071764,  9018626.78865643,  9131909.27659521,\n",
       "         9245191.76453399,  9358474.25247278,  9471756.74041156,\n",
       "         9585039.22835035,  9698321.71628913,  9811604.20422791,\n",
       "         9924886.6921667 , 10038169.18010548, 10151451.66804426,\n",
       "        10264734.15598305, 10378016.64392183, 10491299.13186062,\n",
       "        10604581.6197994 , 10717864.10773818, 10831146.59567697,\n",
       "        10944429.08361575, 11057711.57155453, 11170994.05949332,\n",
       "        11284276.5474321 , 11397559.03537088]), <a list of 100 Patch objects>)"
      ]
     },
     "execution_count": 43,
     "metadata": {},
     "output_type": "execute_result"
    },
    {
     "data": {
      "image/png": "[encoded data removed]",
      "text/plain": [
       "<Figure size 432x288 with 1 Axes>"
      ]
     },
     "metadata": {
      "needs_background": "light"
     },
     "output_type": "display_data"
    }
   ],
   "source": [
    "plots.hist(ending_values, bins = 100)"
   ]
  },
  {
   "cell_type": "code",
   "execution_count": 53,
   "metadata": {},
   "outputs": [
    {
     "name": "stdout",
     "output_type": "stream",
     "text": [
      "41.44 of chances of getting less than a $1000000.00\n",
      "58.56 of chances of getting more than a $1000000.00\n"
     ]
    }
   ],
   "source": [
    "# what is the probability that we have less than 1million?\n",
    "sample_expected_amount = 1000000\n",
    "def probability_of_a_given_profit(sample_expected_amount = 1000000):\n",
    "    return len(ending_values[ending_values<sample_expected_amount]) / len(ending_values)\n",
    "print(\"{} of chances of getting less than a {}\".format(probability_of_a_given_profit() * 100, locale.currency(sample_expected_amount)))\n",
    "print(\"{} of chances of getting more than a {}\".format(100 - (probability_of_a_given_profit() * 100), locale.currency(sample_expected_amount)))\n"
   ]
  },
  {
   "cell_type": "code",
   "execution_count": 61,
   "metadata": {},
   "outputs": [
    {
     "name": "stdout",
     "output_type": "stream",
     "text": [
      "29.38 of chances of getting more than a $800000.00 and less than $1200000.00\n"
     ]
    }
   ],
   "source": [
    "# point estimate may not be possiblle but ranges yes?\n",
    "sample_expected_amount_bottom = 800000\n",
    "sample_expected_amount_top = 1200000\n",
    "def probability_of_a_given_profit_range(sample_expected_amount_bottom = 800000, sample_expected_amount_top = 1200000):\n",
    "    return (len(ending_values[ (ending_values<sample_expected_amount_top) & (ending_values<sample_expected_amount_bottom)]))/ len(ending_values)\n",
    "print(\"{} of chances of getting more than a {} and less than {}\".format(probability_of_a_given_profit_range() * 100, locale.currency(sample_expected_amount_bottom), locale.currency(sample_expected_amount_top)))\n",
    "#print(\"{} of chances of getting more than a {}\".format(100 - (probability_of_a_given_profit() * 100), locale.currency(sample_expected_amount)))\n"
   ]
  },
  {
   "cell_type": "code",
   "execution_count": 77,
   "metadata": {},
   "outputs": [
    {
     "name": "stdout",
     "output_type": "stream",
     "text": [
      "5%-ile - 95% chance that we get  $395,887.38\n",
      "10%-ile - 90% chance that we get  $502,642.82\n",
      "15%-ile - 85% chance that we get  $592,658.63\n",
      "20%-ile - 80% chance that we get  $668,882.04\n",
      "25%-ile - 75% chance that we get  $735,034.15\n",
      "50%-ile - 50% chance that we get  $1,154,648.21\n",
      "75%-ile - 25% chance that we get  $1,851,113.40\n",
      "80%-ile - 20% chance that we get  $2,086,673.52\n",
      "90%-ile - 10% chance that we get  $2,813,353.26\n",
      "95%-ile - 5% chance that we get  $3,688,312.63\n"
     ]
    }
   ],
   "source": [
    "# perccentile table\n",
    "ptile_list = [5, 10, 15, 20, 25, 50, 75, 80, 90, 95]\n",
    "p_tiles = np.percentile(ending_values, ptile_list)\n",
    "for p in range(len(p_tiles)):\n",
    "    print(\"{}%-ile - {}% chance that we get \".format( ptile_list[p], 100 - ptile_list[p]).rjust(15),\"{}\".format(locale.currency(p_tiles[p], grouping = True)))\n",
    "    "
   ]
  },
  {
   "cell_type": "code",
   "execution_count": null,
   "metadata": {},
   "outputs": [],
   "source": []
  }
 ],
 "metadata": {
  "kernelspec": {
   "display_name": "Python 3",
   "language": "python",
   "name": "python3"
  },
  "language_info": {
   "codemirror_mode": {
    "name": "ipython",
    "version": 3
   },
   "file_extension": ".py",
   "mimetype": "text/x-python",
   "name": "python",
   "nbconvert_exporter": "python",
   "pygments_lexer": "ipython3",
   "version": "3.7.3"
  }
 },
 "nbformat": 4,
 "nbformat_minor": 2
}
